{
 "cells": [
  {
   "cell_type": "code",
   "execution_count": 1,
   "metadata": {},
   "outputs": [],
   "source": [
    "import os\n",
    "os.getcwd() \n",
    "os.environ['CUDA_LAUNCH_BLOCKING'] = '1'\n",
    "import warnings\n",
    "warnings.filterwarnings(\"ignore\")\n",
    "from model import *\n",
    "import torch\n",
    "from datasets import load_dataset,load_metric\n",
    "from transformers import  AutoTokenizer\n",
    "import torch_optimizer as optim\n",
    "from transformers.optimization import Adafactor, AdafactorSchedule\n",
    "from MT_hyperparams import seed_,max_length\n",
    "import torch.backends.cudnn as cudnn\n",
    "from utils import *\n",
    "from attention_params import *\n",
    "from torch.utils.data import TensorDataset, DataLoader, RandomSampler, SequentialSampler, SubsetRandomSampler\n",
    "from torch.autograd import Variable\n",
    "from losses import *\n",
    "from architect import *\n",
    "import logging\n",
    "import sys\n",
    "import transformers\n",
    "import time\n",
    "import argparse\n",
    "from tqdm import tqdm\n",
    "import string\n",
    "from torch.optim.lr_scheduler import LambdaLR\n",
    "from os.path import exists\n",
    "from torch.optim.lr_scheduler import StepLR\n",
    "from transformers import get_linear_schedule_with_warmup"
   ]
  },
  {
   "cell_type": "code",
   "execution_count": 2,
   "metadata": {},
   "outputs": [],
   "source": [
    "parser = argparse.ArgumentParser(\"main\")\n",
    "\n",
    "\n",
    "parser.add_argument('--valid_num_points', type=int,             default = -1, help='validation data number')\n",
    "parser.add_argument('--train_w_num_points', type=int,           default = 4000, help='train data number')\n",
    "parser.add_argument('--train_A_num_points', type=int,           default = 2000, help='train data number')\n",
    "parser.add_argument('--unlabel_num_points', type=int,           default = 2000, help='train data number')\n",
    "parser.add_argument('--test_num_points', type=int,              default = -1, help='train data number')\n",
    "\n",
    "parser.add_argument('--batch_size', type=int,                   default=32,     help='Batch size for test and validation')\n",
    "\n",
    "parser.add_argument('--w_bs', type=int,                         default=16,      help='train_w_num_points for each batch')\n",
    "parser.add_argument('--syn_bs', type=int,                       default=8,      help='train_v_synthetic_num_points for each batch')\n",
    "# parser.add_argument('--train_v_num_points', type=int,           default=0,      help='train_v_num_points for each batch')\n",
    "parser.add_argument('--A_bs', type=int,                         default=8,      help='train_A_num_points decay for each batch')\n",
    "\n",
    "parser.add_argument('--gpu', type=int,                          default=0,      help='gpu device id')\n",
    "parser.add_argument('--num_workers', type=int,                  default=0,      help='num_workers')\n",
    "parser.add_argument('--model_name_teacher', type=str,           default='roberta-base',      help='model_name')\n",
    "parser.add_argument('--model_name_student', type=str,           default='roberta-base',      help='model_name')\n",
    "parser.add_argument('--model_name_de2en', type=str,             default='roberta-base',      help='model_name')\n",
    "parser.add_argument('--exp_name', type=str,                     default='yelp',      help='experiment name')\n",
    "parser.add_argument('--rep_num', type=int,                      default=-1,      help='report times for 1 epoch')\n",
    "parser.add_argument('--test_num', type=int,                     default=-1,      help='test times for 1 epoch')\n",
    "\n",
    "parser.add_argument('--epochs', type=int,                       default=10,     help='num of training epochs')\n",
    "parser.add_argument('--pre_epochs', type=int,                   default=0,      help='train model W for x epoch first')\n",
    "parser.add_argument('--grad_clip', type=float,                  default=1,      help='gradient clipping')\n",
    "# parser.add_argument('--grad_acc_count', type=float,             default=-1,      help='gradient accumulate steps')\n",
    "\n",
    "parser.add_argument('--w_lr', type=float,                       default=2e-6,   help='learning rate for w')\n",
    "parser.add_argument('--unrolled_w_lr', type=float,              default=2e-6,   help='learning rate for w')\n",
    "parser.add_argument('--v_lr', type=float,                       default=2e-6,   help='learning rate for v')\n",
    "parser.add_argument('--unrolled_v_lr', type=float,              default=2e-6,   help='learning rate for v')\n",
    "parser.add_argument('--A_lr', type=float,                       default=100 ,   help='learning rate for A')\n",
    "# parser.add_argument('--learning_rate_min', type=float,          default=1e-8,   help='learning_rate_min')\n",
    "# parser.add_argument('--decay', type=float,                      default=1e-3,   help='weight decay')\n",
    "parser.add_argument('--beta1', type=float,                      default=0.9,    help='momentum')\n",
    "parser.add_argument('--beta2', type=float,                      default=0.999,    help='momentum')\n",
    "# parser.add_argument('--warm', type=float,                       default=10,    help='warmup step')\n",
    "parser.add_argument('--num_step_lr', type=float,                default=10,    help='warmup step')\n",
    "parser.add_argument('--decay_lr', type=float,                   default=1,    help='warmup step')\n",
    "# parser.add_argument('--smoothing', type=float,                  default=0.1,    help='labelsmoothing')\n",
    "\n",
    "parser.add_argument('--freeze', type=int,                       default=0,    help='whether freeze the pretrained encoder')\n",
    "\n",
    "parser.add_argument('--traindata_loss_ratio', type=float,       default=0,    help='human translated data ratio')\n",
    "parser.add_argument('--syndata_loss_ratio', type=float,         default=1,    help='augmented dataset ratio')\n",
    "\n",
    "parser.add_argument('--valid_begin', type=int,                  default=1,      help='whether valid before train')\n",
    "parser.add_argument('--train_A', type=int,                      default=1 ,     help='whether train A')\n",
    "parser.add_argument('--attack', type=int,                       default=0 ,     help='whether att')\n",
    "\n",
    "# parser.add_argument('--embedding_dim', type=int,                default=300 ,     help='whether train A')\n",
    "parser.add_argument('--out_dim', type=int,                      default=2 ,     help='whether train A')\n",
    "# parser.add_argument('--hidden_size', type=int,                  default=64 ,     help='whether train A')\n",
    "\n",
    "\n",
    "\n",
    "\n",
    "\n",
    "args = parser.parse_args(args=[])#(args=['--batch_size', '8',  '--no_cuda'])#used in ipynb\n",
    "\n",
    "args.test_num = args.test_num//args.batch_size * args.batch_size\n",
    "args.train_w_num_points= args.train_w_num_points//args.w_bs * args.w_bs\n",
    "args.train_A_num_points= args.train_A_num_points//args.A_bs * args.A_bs\n",
    "args.unlabel_num_points= args.unlabel_num_points//args.syn_bs * args.syn_bs\n",
    "args.rep_num = args.rep_num//args.batch_size * args.batch_size\n",
    "\n",
    "args.test_num = args.train_w_num_points #TODO: test each epoch\n",
    "args.rep_num = (args.train_w_num_points//4)//args.batch_size * args.batch_size#TODO: test each epoch"
   ]
  },
  {
   "cell_type": "code",
   "execution_count": 3,
   "metadata": {},
   "outputs": [
    {
     "name": "stderr",
     "output_type": "stream",
     "text": [
      "Failed to detect the name of this notebook, you can set it manually with the WANDB_NOTEBOOK_NAME environment variable to enable code saving.\n",
      "\u001b[34m\u001b[1mwandb\u001b[0m: Currently logged in as: \u001b[33monlydrinkwater\u001b[0m. Use \u001b[1m`wandb login --relogin`\u001b[0m to force relogin\n"
     ]
    },
    {
     "data": {
      "text/html": [
       "Tracking run with wandb version 0.12.21"
      ],
      "text/plain": [
       "<IPython.core.display.HTML object>"
      ]
     },
     "metadata": {},
     "output_type": "display_data"
    },
    {
     "data": {
      "text/html": [
       "Run data is saved locally in <code>/tianyi-vol/Self-teaching-for-machine-translation/BERT/wandb/run-20220706_051219-1vp4k8yv</code>"
      ],
      "text/plain": [
       "<IPython.core.display.HTML object>"
      ]
     },
     "metadata": {},
     "output_type": "display_data"
    },
    {
     "data": {
      "text/html": [
       "Syncing run <strong><a href=\"https://wandb.ai/onlydrinkwater/Selftraining/runs/1vp4k8yv\" target=\"_blank\">yelp</a></strong> to <a href=\"https://wandb.ai/onlydrinkwater/Selftraining\" target=\"_blank\">Weights & Biases</a> (<a href=\"https://wandb.me/run\" target=\"_blank\">docs</a>)<br/>"
      ],
      "text/plain": [
       "<IPython.core.display.HTML object>"
      ]
     },
     "metadata": {},
     "output_type": "display_data"
    },
    {
     "data": {
      "text/html": [
       "<button onClick=\"this.nextSibling.style.display='block';this.style.display='none';\">Display W&B run</button><iframe src=\"https://wandb.ai/onlydrinkwater/Selftraining/runs/1vp4k8yv?jupyter=true\" style=\"border:none;width:100%;height:420px;display:none;\"></iframe>"
      ],
      "text/plain": [
       "<wandb.sdk.wandb_run.Run at 0x7f1b0b08a520>"
      ]
     },
     "execution_count": 3,
     "metadata": {},
     "output_type": "execute_result"
    }
   ],
   "source": [
    "# https://wandb.ai/ check the running status online\n",
    "import wandb\n",
    "os.environ['WANDB_API_KEY'] = 'a166474b1b7ad33a0549adaaec19a2f6d3f91d87'\n",
    "os.environ['WANDB_NAME'] = args.exp_name\n",
    "os.environ[\"TOKENIZERS_PARALLELISM\"] = \"false\"\n",
    "os.environ[\"CUBLAS_WORKSPACE_CONFIG\"] = \":16:8\"\n",
    "\n",
    "wandb.init(project=\"Selftraining\", config=args)\n"
   ]
  },
  {
   "cell_type": "code",
   "execution_count": 4,
   "metadata": {},
   "outputs": [],
   "source": [
    "# logging file\n",
    "now = time.strftime(\"%Y-%m-%d-%H_%M_%S\", time.localtime(time.time()))\n",
    "\n",
    "log_format = '%(asctime)s |\\t  %(message)s'\n",
    "logging.basicConfig(stream=sys.stdout, level=logging.INFO,\n",
    "                    format=log_format, datefmt='%m/%d %I:%M:%S %p')\n",
    "fh = logging.FileHandler(os.path.join(\n",
    "    \"./log/\", now+'.txt'), 'w', encoding=\"UTF-8\")\n",
    "fh.setFormatter(logging.Formatter(log_format))\n",
    "logging.getLogger().addHandler(fh)\n",
    "\n",
    "\n",
    "# Setting the seeds\n",
    "np.random.seed(seed_)\n",
    "torch.cuda.set_device(args.gpu)\n",
    "device = torch.device(\"cuda\" if torch.cuda.is_available() else \"cpu\")\n",
    "cudnn.benchmark = True\n",
    "torch.manual_seed(seed_)\n",
    "cudnn.enabled = True\n",
    "torch.cuda.manual_seed(seed_)\n"
   ]
  },
  {
   "cell_type": "code",
   "execution_count": 5,
   "metadata": {},
   "outputs": [
    {
     "name": "stdout",
     "output_type": "stream",
     "text": [
      "07/06 05:12:27 AM |\t  Using custom data configuration default-89b305f2de5c2a24\n",
      "07/06 05:12:27 AM |\t  Reusing dataset json (/root/.cache/huggingface/datasets/json/default-89b305f2de5c2a24/0.0.0/da492aad5680612e4028e7f6ddc04b1dfcec4b64db470ed7cc5f2bb265b9b6b5)\n"
     ]
    },
    {
     "name": "stderr",
     "output_type": "stream",
     "text": [
      "100%|██████████| 1/1 [00:00<00:00, 628.83it/s]\n"
     ]
    },
    {
     "name": "stdout",
     "output_type": "stream",
     "text": [
      "07/06 05:12:28 AM |\t  Using custom data configuration default-9e3205a4e9940313\n",
      "07/06 05:12:28 AM |\t  Reusing dataset json (/root/.cache/huggingface/datasets/json/default-9e3205a4e9940313/0.0.0/da492aad5680612e4028e7f6ddc04b1dfcec4b64db470ed7cc5f2bb265b9b6b5)\n"
     ]
    },
    {
     "name": "stderr",
     "output_type": "stream",
     "text": [
      "100%|██████████| 1/1 [00:00<00:00, 695.11it/s]\n"
     ]
    },
    {
     "name": "stdout",
     "output_type": "stream",
     "text": [
      "07/06 05:12:28 AM |\t  Using custom data configuration default-9c4aa945ceecc93d\n",
      "07/06 05:12:28 AM |\t  Reusing dataset json (/root/.cache/huggingface/datasets/json/default-9c4aa945ceecc93d/0.0.0/da492aad5680612e4028e7f6ddc04b1dfcec4b64db470ed7cc5f2bb265b9b6b5)\n"
     ]
    },
    {
     "name": "stderr",
     "output_type": "stream",
     "text": [
      "100%|██████████| 1/1 [00:00<00:00, 895.84it/s]\n"
     ]
    },
    {
     "name": "stdout",
     "output_type": "stream",
     "text": [
      "07/06 05:12:28 AM |\t  Using custom data configuration default-99489eb87fbc339f\n",
      "07/06 05:12:28 AM |\t  Reusing dataset json (/root/.cache/huggingface/datasets/json/default-99489eb87fbc339f/0.0.0/da492aad5680612e4028e7f6ddc04b1dfcec4b64db470ed7cc5f2bb265b9b6b5)\n"
     ]
    },
    {
     "name": "stderr",
     "output_type": "stream",
     "text": [
      "100%|██████████| 1/1 [00:00<00:00, 891.08it/s]\n"
     ]
    }
   ],
   "source": [
    "\n",
    "from datasets import load_dataset\n",
    "l = ['dev','test','train','unlabeled']\n",
    "dev = load_dataset('json', data_files='/tianyi-vol/yelp/dev_data.json', field='data')\n",
    "test = load_dataset('json', data_files='/tianyi-vol/yelp/test_data.json', field='data')\n",
    "train = load_dataset('json', data_files='/tianyi-vol/yelp/train_data.json', field='data')\n",
    "unlabeled = load_dataset('json', data_files='/tianyi-vol/yelp/unlabeled_data.json', field='data')"
   ]
  },
  {
   "cell_type": "code",
   "execution_count": 6,
   "metadata": {},
   "outputs": [
    {
     "name": "stdout",
     "output_type": "stream",
     "text": [
      "DatasetDict({\n",
      "    train: Dataset({\n",
      "        features: ['text', 'label', 'major', 'len'],\n",
      "        num_rows: 25165\n",
      "    })\n",
      "}) DatasetDict({\n",
      "    train: Dataset({\n",
      "        features: ['text', 'label', 'major', 'len'],\n",
      "        num_rows: 3800\n",
      "    })\n",
      "}) DatasetDict({\n",
      "    train: Dataset({\n",
      "        features: ['text', 'label', 'major', 'len'],\n",
      "        num_rows: 5235\n",
      "    })\n",
      "}) DatasetDict({\n",
      "    train: Dataset({\n",
      "        features: ['text', 'label', 'major', 'len'],\n",
      "        num_rows: 3800\n",
      "    })\n",
      "})\n"
     ]
    }
   ],
   "source": [
    "print(train,dev,unlabeled,test)"
   ]
  },
  {
   "cell_type": "code",
   "execution_count": 7,
   "metadata": {},
   "outputs": [
    {
     "name": "stdout",
     "output_type": "stream",
     "text": [
      "07/06 05:12:44 AM |\t  modelsize:124.697433MB\n",
      "07/06 05:12:56 AM |\t  modelsize:124.697433MB\n",
      "07/06 05:13:08 AM |\t  modelsize:124.697433MB\n"
     ]
    }
   ],
   "source": [
    "from transformers import AutoTokenizer, AutoModelForMaskedLM\n",
    "tokenizer = AutoTokenizer.from_pretrained(\"roberta-base\")\n",
    "modelname = args.model_name_teacher\n",
    "pretrained = AutoModelForMaskedLM.from_pretrained(modelname)\n",
    "pathname = modelname.replace('/', '')\n",
    "logging.info(f'modelsize:{count_parameters_in_MB(pretrained)}MB')\n",
    "\n",
    "if(exists(pathname+'.pt') == False):\n",
    "    logging.info(f'saving to {pathname}')\n",
    "    torch.save(pretrained, pathname+'.pt')\n",
    "\n",
    "modelname = args.model_name_student\n",
    "pretrained = AutoModelForMaskedLM.from_pretrained(modelname)\n",
    "pathname = modelname.replace('/', '')\n",
    "logging.info(f'modelsize:{count_parameters_in_MB(pretrained)}MB')\n",
    "if(exists(pathname+'.pt') == False):\n",
    "    logging.info(f'saving to {pathname}')\n",
    "    torch.save(pretrained, pathname+'.pt')\n",
    "\n",
    "modelname = args.model_name_de2en\n",
    "pretrained = AutoModelForMaskedLM.from_pretrained(modelname)\n",
    "pathname = modelname.replace('/', '')\n",
    "logging.info(f'modelsize:{count_parameters_in_MB(pretrained)}MB')\n",
    "if(exists(pathname+'.pt') == False):\n",
    "    logging.info(f'saving to {pathname}')\n",
    "    torch.save(pretrained, pathname+'.pt')\n"
   ]
  },
  {
   "cell_type": "code",
   "execution_count": 8,
   "metadata": {},
   "outputs": [
    {
     "name": "stdout",
     "output_type": "stream",
     "text": [
      "07/06 05:13:08 AM |\t  Loading cached shuffled indices for dataset at /root/.cache/huggingface/datasets/json/default-9c4aa945ceecc93d/0.0.0/da492aad5680612e4028e7f6ddc04b1dfcec4b64db470ed7cc5f2bb265b9b6b5/cache-a565eec58ed7e408.arrow\n",
      "07/06 05:13:08 AM |\t  Loading cached shuffled indices for dataset at /root/.cache/huggingface/datasets/json/default-89b305f2de5c2a24/0.0.0/da492aad5680612e4028e7f6ddc04b1dfcec4b64db470ed7cc5f2bb265b9b6b5/cache-5967255ee27fdb41.arrow\n",
      "07/06 05:13:08 AM |\t  Loading cached shuffled indices for dataset at /root/.cache/huggingface/datasets/json/default-99489eb87fbc339f/0.0.0/da492aad5680612e4028e7f6ddc04b1dfcec4b64db470ed7cc5f2bb265b9b6b5/cache-5706d4fed9149c74.arrow\n",
      "07/06 05:13:08 AM |\t  Loading cached shuffled indices for dataset at /root/.cache/huggingface/datasets/json/default-9e3205a4e9940313/0.0.0/da492aad5680612e4028e7f6ddc04b1dfcec4b64db470ed7cc5f2bb265b9b6b5/cache-7e682076f91c470f.arrow\n",
      "07/06 05:13:08 AM |\t  train len: 6000\n",
      "07/06 05:13:08 AM |\t  train_w_num_points_len and train_v_num_points_len: 4000\n",
      "07/06 05:13:08 AM |\t  train_v_synthetic_num_points_len: 2000\n",
      "07/06 05:13:08 AM |\t  train_A_num_points_len: 2000\n",
      "07/06 05:13:09 AM |\t  valid len: 3800\n",
      "07/06 05:13:09 AM |\t  test len: 3800\n"
     ]
    }
   ],
   "source": [
    "\n",
    "train =train[\"train\"].shuffle(seed=seed_).select(range(args.train_w_num_points+args.train_A_num_points)) # A and W)\n",
    "valid = dev[\"train\"].shuffle(seed=seed_)#.select(range( r(args.valid_num_points, args.batch_size))) # dev\n",
    "unlabeled = unlabeled[\"train\"].shuffle(seed=seed_).select(range( args.unlabel_num_points) )# dev\n",
    "test = test[\"train\"].shuffle(seed=seed_)#.select(range( r(args.valid_num_points, args.batch_size))) # dev # test\n",
    "\n",
    "logging.info(\"train len: %d\", len(train))\n",
    "\n",
    "train_w_num_points_len = args.train_w_num_points\n",
    "\n",
    "\n",
    "\n",
    "train_v_synthetic_num_points_len = args.unlabel_num_points\n",
    "train_A_num_points_len =  args.train_A_num_points\n",
    "\n",
    "logging.info(\"train_w_num_points_len and train_v_num_points_len: %d\", train_w_num_points_len)\n",
    "logging.info(\"train_v_synthetic_num_points_len: %d\",\n",
    "             train_v_synthetic_num_points_len)\n",
    "# logging.info(\"train_v_num_points_len: %d\", train_v_num_points_len)\n",
    "logging.info(\"train_A_num_points_len: %d\", train_A_num_points_len)\n",
    "\n",
    "attn_idx_list = torch.arange(train_w_num_points_len).cuda()\n",
    "logging.info(\"valid len: %d\", len(valid))\n",
    "logging.info(\"test len: %d\", len(test))\n",
    "# logging.info(test[2])\n"
   ]
  },
  {
   "cell_type": "code",
   "execution_count": 9,
   "metadata": {},
   "outputs": [
    {
     "name": "stdout",
     "output_type": "stream",
     "text": [
      "07/06 05:13:11 AM |\t  train w data size:batchsize:16\t numofbatch:250\t totoal:4000\n",
      "07/06 05:13:11 AM |\t  train syn data size:batchsize:8\t numofbatch:250\t totoal:2000\n",
      "07/06 05:13:11 AM |\t  train A data size:batchsize:8\t numofbatch:250\t totoal:2000\n",
      "07/06 05:13:13 AM |\t  validation data size:batchsize:32\t numofbatch:119\t totoal:3808\n",
      "07/06 05:13:14 AM |\t  test data size:batchsize:32\t numofbatch:119\t totoal:3808\n"
     ]
    }
   ],
   "source": [
    "\n",
    "# Create the DataLoader for our training set.\n",
    "train_w_data = get_data_idx(train[:train_w_num_points_len], tokenizer,train_w_num_points_len)\n",
    "train_A_data = get_data(train[train_w_num_points_len:], tokenizer)\n",
    "train_syn_data = get_syn_data(unlabeled, tokenizer)\n",
    "\n",
    "# indices = list(range(len(train)-train_w_num_points_len))\n",
    "\n",
    "train_w_dataloader = DataLoader(train_w_data, sampler=SequentialSampler(train_w_data),\n",
    "                              batch_size=args.w_bs, pin_memory=args.num_workers > 0, num_workers=args.num_workers)\n",
    "logging.info(f'train w data size:{get_dataloader_size(train_w_dataloader)}')\n",
    "\n",
    "\n",
    "train_syn_dataloader = DataLoader(train_syn_data, sampler=RandomSampler(train_syn_data),\n",
    "                              batch_size=args.syn_bs, pin_memory=args.num_workers > 0, num_workers=args.num_workers)\n",
    "logging.info(f'train syn data size:{get_dataloader_size(train_syn_dataloader)}')\n",
    "\n",
    "\n",
    "train_A_dataloader = DataLoader(train_A_data,  sampler=RandomSampler(train_A_data),\n",
    "                              batch_size=args.A_bs, pin_memory=args.num_workers > 0, num_workers=args.num_workers)\n",
    "logging.info(f'train A data size:{get_dataloader_size(train_A_dataloader)}')\n",
    "\n",
    "\n",
    "\n",
    "# Create the DataLoader for our training set.\n",
    "valid_data = get_data(valid, tokenizer)\n",
    "valid_dataloader = DataLoader(valid_data, sampler=SequentialSampler(valid_data),\n",
    "                              batch_size=args.batch_size, pin_memory=args.num_workers > 0, num_workers=args.num_workers)\n",
    "logging.info(f'validation data size:{get_dataloader_size(valid_dataloader)}')\n",
    "\n",
    "\n",
    "# Create the DataLoader for our training set.\n",
    "test_data = get_data(test, tokenizer)\n",
    "test_dataloader = DataLoader(test_data, sampler=SequentialSampler(test_data),\n",
    "                             batch_size=args.batch_size, pin_memory=args.num_workers > 0, num_workers=args.num_workers)  # , sampler=RandomSampler(test_data)\n",
    "logging.info(f'test data size:{get_dataloader_size(test_dataloader)}')\n"
   ]
  },
  {
   "cell_type": "code",
   "execution_count": 10,
   "metadata": {},
   "outputs": [],
   "source": [
    "\n",
    "A = attention_params(tokenizer, args, train_w_num_points_len)  # half of train regarded as u\n",
    "A = A.cuda()\n",
    "\n",
    "# TODO: model loaded from saved model\n",
    "model_w = Model(tokenizer, args, 'teacher')\n",
    "model_w = model_w.cuda()\n",
    "w_optimizer = torch.optim.AdamW(model_w.parameters(\n",
    "),  lr=args.w_lr,  betas=(args.beta1, args.beta2), eps=1e-8,weight_decay=1e-4)\n",
    "# w_optimizer = Adafactor(model_w.parameters(), lr = args.w_lr ,scale_parameter=False, relative_step=False , warmup_init=False,clip_threshold=1,beta1=0,eps=( 1e-30,0.001))\n",
    "\n",
    "scheduler_w = get_linear_schedule_with_warmup(w_optimizer, num_warmup_steps=args.epochs, num_training_steps=len(train_w_dataloader) * args.epochs)\n",
    "# scheduler_w  = Scheduler(w_optimizer,dim_embed=512, warmup_steps=args.warm, initlr = args.w_lr)\n",
    "\n",
    "\n",
    "model_v = Model(tokenizer, args, 'student')\n",
    "model_v = model_v.cuda()\n",
    "v_optimizer = torch.optim.AdamW(model_v.parameters(\n",
    "),  lr=args.v_lr,  betas=(args.beta1, args.beta2), eps=1e-8,weight_decay=1e-4)\n",
    "# v_optimizer =Adafactor(model_v.parameters(), lr = args.v_lr ,scale_parameter=False, relative_step=False , warmup_init=False,clip_threshold=1,beta1=0,eps=( 1e-30,0.001))\n",
    "\n",
    "scheduler_v = get_linear_schedule_with_warmup(v_optimizer, num_warmup_steps=args.epochs, num_training_steps=len(train_w_dataloader) * args.epochs)\n",
    "#  scheduler_v = StepLR(\n",
    "    # v_optimizer, step_size=args.num_step_lr, gamma=args.decay_lr)\n",
    "# scheduler_v  = Scheduler(v_optimizer,dim_embed=512, warmup_steps=args.warm, initlr = args.v_lr)\n",
    "\n",
    "\n",
    "architect = Architect(model_w, model_v,  A, args)\n",
    "architect.scheduler_A = get_linear_schedule_with_warmup(architect.optimizer_A, num_warmup_steps=args.epochs, num_training_steps=len(train_w_dataloader) * args.epochs)"
   ]
  },
  {
   "cell_type": "code",
   "execution_count": 11,
   "metadata": {},
   "outputs": [],
   "source": [
    "@torch.no_grad()\n",
    "def my_test(_dataloader,model,epoch):\n",
    "    # logging.info(f\"GPU mem before test:{getGPUMem(device)}%\")\n",
    "    acc = 0\n",
    "    counter = 0\n",
    "    model.eval()\n",
    "    objs_top1 = AvgrageMeter()\n",
    "    objs_top5 = AvgrageMeter()\n",
    "    \n",
    "    for step, batch in enumerate(_dataloader):\n",
    "        test_dataloaderx = Variable(batch[0], requires_grad=False).to(device, non_blocking=False)\n",
    "        test_dataloaderx_attn = Variable(batch[1], requires_grad=False).to(device, non_blocking=False)\n",
    "        test_dataloadery = Variable(batch[2], requires_grad=False).to(device, non_blocking=False)\n",
    "        logits,ls = my_loss(test_dataloaderx,test_dataloaderx_attn,test_dataloadery,model)\n",
    "        n = test_dataloaderx.shape[0]\n",
    "        acc+= ls.item()\n",
    "        counter+= 1\n",
    "        prec1, prec5 = accuracy(logits, test_dataloadery, topk=(1, 1))\n",
    "                \n",
    "        objs_top1.update(prec1.item(), n)\n",
    "        \n",
    "        objs_top5.update(prec5.item(), n)\n",
    "    acc = objs_top1.avg\n",
    "    logging.info('%s test loss : %f',model.name,acc/(counter))\n",
    "    logging.info('%s top1 : %f',model.name,objs_top1.avg)\n",
    "    objs_top1.reset()\n",
    "    logging.info('%s top5 : %f',model.name,objs_top5.avg)\n",
    "    objs_top5.reset()\n",
    "    logging.info('%s test loss : %f',model.name,acc/(counter))\n",
    "    wandb.log({'test_loss'+model.name: acc/counter})\n",
    "    model.train()\n",
    "    return acc\n",
    "\n",
    "        "
   ]
  },
  {
   "cell_type": "code",
   "execution_count": 19,
   "metadata": {},
   "outputs": [],
   "source": [
    "real_label = torch.zeros(train_w_num_points_len,device='cuda',dtype=torch.long)\n",
    "def my_train(epoch, wdataloader,syndataloader,Adataloader, validdataloader, w_model, v_model, architect, A, w_optimizer, v_optimizer,  scheduler_w, scheduler_v, tot_iter, past_v_accu):\n",
    "    objs_w = AvgrageMeter()\n",
    "    objs_v_syn = AvgrageMeter()\n",
    "    objs_v_train = AvgrageMeter()\n",
    "    objs_v_star_val = AvgrageMeter()\n",
    "    objs_v_val = AvgrageMeter()\n",
    "    objs_w_top1 = AvgrageMeter()\n",
    "    objs_w_top5 = AvgrageMeter()\n",
    "    objs_v_top1 = AvgrageMeter()\n",
    "    objs_v_top5 = AvgrageMeter()\n",
    "    objs_weight = AvgrageMeter_tensor()\n",
    "    improvementacc = 0\n",
    "    w_trainloss_acc = 0\n",
    "    # now  train_x is [num of batch, datasize], so its seperate batch for the code below\n",
    "    wsize = args.w_bs\n",
    "    synsize = args.syn_bs\n",
    "    vsize = -1\n",
    "    Asize = args.A_bs\n",
    "    loader_len = len(wdataloader)\n",
    "    w_model.train()\n",
    "    v_model.train()\n",
    "\n",
    "    for step, w_batch in enumerate(wdataloader):\n",
    "        scheduler_w.step()\n",
    "        scheduler_v.step()\n",
    "        architect.scheduler_A.step()\n",
    "\n",
    "\n",
    "        input_w = Variable(w_batch[0], requires_grad=False).to(\n",
    "            device, non_blocking=False)\n",
    "        input_w_attn = Variable(w_batch[1], requires_grad=False).to(\n",
    "            device, non_blocking=False)\n",
    "        output_w = Variable(w_batch[2], requires_grad=False).to(\n",
    "            device, non_blocking=False)\n",
    "        attn_idx = Variable(w_batch[3], requires_grad=False).to(\n",
    "            device, non_blocking=False)\n",
    "        real = Variable(w_batch[4], requires_grad=False).to(\n",
    "            device, non_blocking=False)\n",
    "        \n",
    "        real_label[attn_idx] = real\n",
    "\n",
    "        syn_batch = next(iter(syndataloader))\n",
    "        input_syn = Variable(syn_batch[0], requires_grad=False).to(\n",
    "            device, non_blocking=False)\n",
    "        input_syn_attn = Variable(syn_batch[1], requires_grad=False).to(\n",
    "            device, non_blocking=False)\n",
    "\n",
    "\n",
    "\n",
    "        A_batch = next(iter(Adataloader))\n",
    "        input_A_v = Variable(A_batch[0], requires_grad=False).to(\n",
    "            device, non_blocking=False)\n",
    "        input_A_v_attn = Variable(A_batch[1], requires_grad=False).to(\n",
    "            device, non_blocking=False)\n",
    "        output_A_v = Variable(A_batch[2], requires_grad=False).to(\n",
    "            device, non_blocking=False)\n",
    "\n",
    "\n",
    "\n",
    "        tot_iter[0] += input_w.shape[0]\n",
    "        \n",
    "        \n",
    "        if(True):  # let v train on syn data and w data\n",
    "            input_v = input_w\n",
    "            input_v_attn = input_w_attn\n",
    "            output_v = output_w\n",
    "            vsize = wsize\n",
    "\n",
    "        # input_w[:8,1:]= input_w[:8,1:] + torch.randint(0, 10, (input_w.shape[1]-1,),device='cuda')# noise input# bert would not learn from influent sentences\n",
    "\n",
    "        v_star_val_loss=0\n",
    "        if (args.train_A == 1 and epoch>=args.pre_epochs):\n",
    "            epsilon_w = scheduler_w.get_lr()[0]\n",
    "            epsilon_v  = scheduler_v.get_lr()[0]\n",
    "            v_star_val_loss = architect.step(input_w,  output_w, input_w_attn, w_optimizer,\n",
    "                                             input_v, input_v_attn, output_v, input_syn, input_syn_attn,\n",
    "                                             input_A_v, input_A_v_attn, output_A_v, attn_idx,v_optimizer,\n",
    "                                             epsilon_w, epsilon_v, args.grad_clip)\n",
    "            objs_v_star_val.update(v_star_val_loss, Asize)\n",
    "\n",
    "        with torch.no_grad():    \n",
    "            objs_weight.update(A(input_w, input_w_attn, attn_idx).data)\n",
    "\n",
    "        w_optimizer.zero_grad()\n",
    "        logits, loss_w = CTG_loss(input_w, input_w_attn, output_w,\n",
    "                                  A,attn_idx, w_model)\n",
    "        w_trainloss_acc += loss_w.item()\n",
    "        loss_w.backward()\n",
    "        objs_w.update(loss_w.item(), wsize)\n",
    "        w_optimizer.step()\n",
    "        torch.nn.utils.clip_grad_norm(w_model.parameters(), args.grad_clip)\n",
    "        prec1, prec5 = accuracy(logits, output_w, topk=(1, 1))\n",
    "        objs_w_top1.update(prec1.item(), wsize)\n",
    "        objs_w_top5.update(prec5.item(), wsize)\n",
    "\n",
    "        if(epoch >= args.pre_epochs):\n",
    "            v_optimizer.zero_grad()\n",
    "            loss_aug = calc_loss_aug(\n",
    "                input_syn, input_syn_attn, w_model, v_model)\n",
    "            logits, loss = my_loss2(input_v, input_v_attn, output_v,\n",
    "                                    v_model)\n",
    "            v_loss = (args.traindata_loss_ratio*loss +\n",
    "                      loss_aug*args.syndata_loss_ratio)\n",
    "            v_loss.backward()\n",
    "            objs_v_syn.update(loss_aug.item(), synsize)\n",
    "            objs_v_train.update(loss.item(), vsize)\n",
    "            v_optimizer.step()\n",
    "\n",
    "            torch.nn.utils.clip_grad_norm(v_model.parameters(), args.grad_clip)\n",
    "            prec1, prec5 = accuracy(logits, output_v, topk=(1, 1))\n",
    "            objs_v_top1.update(prec1.item(), vsize)\n",
    "            objs_v_top5.update(prec5.item(), vsize)\n",
    "\n",
    "\n",
    "        with torch.no_grad():\n",
    "            _,new_v_loss = my_loss2(\n",
    "            input_A_v, input_A_v_attn,  output_A_v,model_v)\n",
    "            improvementacc+=v_star_val_loss-new_v_loss.item()\n",
    "            objs_v_val.update(new_v_loss.item(), Asize)\n",
    "\n",
    "\n",
    "        progress = 100*(step)/(loader_len-1)\n",
    "\n",
    "        \n",
    "        if(tot_iter[0] % args.rep_num == 0 and tot_iter[0] != 0):\n",
    "            logging.info('\\n')\n",
    "            logging.info(f\"{progress:5.3}%:||W_train_loss:{objs_w.avg:^.7f}|V_train_syn_loss:{objs_v_syn.avg:^.7f}|V_train_loss:{objs_v_train.avg:^.7f}|V_val_loss:{objs_v_val.avg:^.7f}|V_star_val_loss:{objs_v_star_val.avg:^.7f}|improvement:{objs_v_star_val.avg-objs_v_val.avg:^.7f}|w_top1:{objs_w_top1.avg:^.7f}|w_top5:{objs_w_top5.avg:^.7f}|v_top1:{objs_v_top1.avg:^.7f}|v_top5:{objs_v_top5.avg:^.7f}|\")\n",
    "            temp = objs_weight.avg\n",
    "            logging.info(f\"avg weight:{temp}\")\n",
    "            logging.info(f\"current alpha:{A.alpha[attn_idx].data}\")\n",
    "            logging.info(f\"current weight:{A(input_w, input_w_attn, attn_idx)}\")\n",
    "            logging.info(f'noise:{torch.mean(temp[5:8]) if args.attack else None} mean:{torch.mean(temp)} max: {torch.max(temp)} min: {torch.min(temp)}')\n",
    "            wandb.log({'W_train_loss': objs_w.avg})\n",
    "            wandb.log({'V_train_syn_loss': objs_v_syn.avg})\n",
    "            wandb.log({'V_train_loss': objs_v_train.avg})\n",
    "            wandb.log({'V_star_val_loss': objs_v_star_val.avg})\n",
    "            wandb.log({'V_val_loss': objs_v_star_val.avg})\n",
    "            wandb.log({'W_accuracy': objs_w_top1.avg})\n",
    "            wandb.log({'v_accuracy': objs_v_top1.avg})\n",
    "            objs_v_syn.reset()\n",
    "            objs_v_train.reset()\n",
    "            objs_weight.reset()\n",
    "            objs_w.reset()\n",
    "            objs_v_star_val.reset()\n",
    "            objs_v_val.reset()\n",
    "            objs_w_top1.reset()\n",
    "            objs_w_top5.reset()\n",
    "\n",
    "        if(tot_iter[0] % args.test_num == 0 and tot_iter[0] != 0):\n",
    "            w_accu = my_test(validdataloader, model_w, epoch)\n",
    "            v_accu = my_test(validdataloader, model_v, epoch)\n",
    "            wandb.log({'W_test_accuracy': w_accu})\n",
    "            wandb.log({'v_test_accuracy':v_accu})\n",
    "            torch.save(A, './model/'+'A.pt')\n",
    "            if(v_accu>past_v_accu):\n",
    "                past_v_accu = v_accu\n",
    "                logging.info('find a better model')\n",
    "                torch.save(model_w, './model/'+'model_w.pt')  # +now+\n",
    "                torch.save(real_label, './model/'+'real_label.pt')\n",
    "                torch.save(model_v, './model/'+'model_v.pt')\n",
    "                torch.save(model_w.state_dict(), os.path.join(\n",
    "                    wandb.run.dir, \"model_w.pt\"))\n",
    "                torch.save(model_v.state_dict(), os.path.join(\n",
    "                    wandb.run.dir, \"model_v.pt\"))\n",
    "                torch.save(A.state_dict(), os.path.join(wandb.run.dir, \"A.pt\"))\n",
    "                wandb.save(\"./files/*.pt\", base_path=\"./files\", policy=\"live\")\n",
    "            \n",
    "            logging.info(f'current best accuracy:{past_v_accu}')\n",
    "    logging.info(f'improvment:{improvementacc}')\n",
    "    return w_trainloss_acc,past_v_accu\n"
   ]
  },
  {
   "cell_type": "code",
   "execution_count": 20,
   "metadata": {},
   "outputs": [
    {
     "name": "stdout",
     "output_type": "stream",
     "text": [
      "07/06 05:26:17 AM |\t  \n",
      "\n",
      "  ----------------epoch:0,\t\tlr_w:6e-07,\t\tlr_v:6e-07,\t\tlr_A:30.0----------------\n",
      "07/06 05:28:59 AM |\t  \n",
      "\n",
      "07/06 05:28:59 AM |\t   24.5%:||W_train_loss:0.6431154|V_train_syn_loss:0.6597239|V_train_loss:0.6151197|V_val_loss:0.6998464|V_star_val_loss:0.7093292|improvement:0.0094828|w_top1:72.7822581|w_top5:72.7822581|v_top1:72.7822581|v_top5:72.7822581|\n",
      "07/06 05:28:59 AM |\t  avg weight:tensor([0.8423, 1.0906, 1.0245, 1.0896, 1.0306, 1.0025, 0.9374, 0.9526, 0.9924,\n",
      "        1.0559, 1.0431, 1.0741, 0.9406, 0.9439, 1.1027, 0.8771],\n",
      "       device='cuda:0')\n",
      "07/06 05:28:59 AM |\t  current alpha:tensor([-5.0548, -0.2948, -0.0833, -6.4101,  0.1404,  0.2482,  1.5633, -0.0658,\n",
      "         1.0873, -0.3677,  0.9778,  0.8321,  1.5429,  5.3980,  0.0905,  0.1235],\n",
      "       device='cuda:0')\n",
      "07/06 05:28:59 AM |\t  current weight:tensor([0.0116, 0.7783, 0.8738, 0.0030, 0.9756, 1.0243, 1.5077, 0.8818, 1.3637,\n",
      "        0.7460, 1.3251, 1.2706, 1.5023, 1.8153, 0.9530, 0.9680],\n",
      "       device='cuda:0', grad_fn=<DivBackward0>)\n",
      "07/06 05:28:59 AM |\t  noise:None mean:0.9999998807907104 max: 1.1027021408081055 min: 0.8423474431037903\n",
      "07/06 05:32:25 AM |\t  \n",
      "\n",
      "07/06 05:32:25 AM |\t   49.4%:||W_train_loss:0.6549810|V_train_syn_loss:0.6576460|V_train_loss:0.6064231|V_val_loss:0.7094478|V_star_val_loss:0.7020638|improvement:-0.0073840|w_top1:73.1854839|w_top5:73.1854839|v_top1:73.0846774|v_top5:73.0846774|\n",
      "07/06 05:32:25 AM |\t  avg weight:tensor([0.9442, 1.0058, 1.1685, 1.0296, 1.0380, 1.1175, 0.8555, 1.0332, 0.9848,\n",
      "        0.9866, 0.7974, 1.0315, 0.9883, 1.0297, 0.9098, 1.0795],\n",
      "       device='cuda:0')\n",
      "07/06 05:32:25 AM |\t  current alpha:tensor([ 6.0311, -1.6356,  4.7457, 12.3984, -3.1966, -6.6969, -3.6764, -3.8205,\n",
      "         1.5805,  0.9718,  7.6790, -5.0143, -2.1730, -5.6387,  1.9084, -2.8976],\n",
      "       device='cuda:0')\n",
      "07/06 05:32:25 AM |\t  current weight:tensor([2.3375, 0.3821, 2.3230, 2.3431, 0.0921, 0.0029, 0.0578, 0.0503, 1.9431,\n",
      "        1.6999, 2.3421, 0.0155, 0.2395, 0.0083, 2.0405, 0.1225],\n",
      "       device='cuda:0', grad_fn=<DivBackward0>)\n",
      "07/06 05:32:25 AM |\t  noise:None mean:0.9999999403953552 max: 1.1685090065002441 min: 0.7974041104316711\n"
     ]
    },
    {
     "ename": "KeyboardInterrupt",
     "evalue": "",
     "output_type": "error",
     "traceback": [
      "\u001b[0;31m---------------------------------------------------------------------------\u001b[0m",
      "\u001b[0;31mKeyboardInterrupt\u001b[0m                         Traceback (most recent call last)",
      "\u001b[0;32m<ipython-input-20-7a3eb483ac6b>\u001b[0m in \u001b[0;36m<module>\u001b[0;34m\u001b[0m\n\u001b[1;32m     13\u001b[0m         f\"\\n\\n  ----------------epoch:{epoch},\\t\\tlr_w:{lr_w},\\t\\tlr_v:{lr_v},\\t\\tlr_A:{lr_A}----------------\")\n\u001b[1;32m     14\u001b[0m \u001b[0;34m\u001b[0m\u001b[0m\n\u001b[0;32m---> 15\u001b[0;31m     w_train_loss,v_accu = my_train(epoch, train_w_dataloader,train_syn_dataloader,train_A_dataloader, valid_dataloader, model_w,\n\u001b[0m\u001b[1;32m     16\u001b[0m                             model_v,  architect, A, w_optimizer, v_optimizer, scheduler_w, scheduler_v, tot_iter,v_accu)\n\u001b[1;32m     17\u001b[0m \u001b[0;34m\u001b[0m\u001b[0m\n",
      "\u001b[0;32m<ipython-input-19-50c917b5d6c5>\u001b[0m in \u001b[0;36mmy_train\u001b[0;34m(epoch, wdataloader, syndataloader, Adataloader, validdataloader, w_model, v_model, architect, A, w_optimizer, v_optimizer, scheduler_w, scheduler_v, tot_iter, past_v_accu)\u001b[0m\n\u001b[1;32m     74\u001b[0m             \u001b[0mepsilon_w\u001b[0m \u001b[0;34m=\u001b[0m \u001b[0mscheduler_w\u001b[0m\u001b[0;34m.\u001b[0m\u001b[0mget_lr\u001b[0m\u001b[0;34m(\u001b[0m\u001b[0;34m)\u001b[0m\u001b[0;34m[\u001b[0m\u001b[0;36m0\u001b[0m\u001b[0;34m]\u001b[0m\u001b[0;34m\u001b[0m\u001b[0;34m\u001b[0m\u001b[0m\n\u001b[1;32m     75\u001b[0m             \u001b[0mepsilon_v\u001b[0m  \u001b[0;34m=\u001b[0m \u001b[0mscheduler_v\u001b[0m\u001b[0;34m.\u001b[0m\u001b[0mget_lr\u001b[0m\u001b[0;34m(\u001b[0m\u001b[0;34m)\u001b[0m\u001b[0;34m[\u001b[0m\u001b[0;36m0\u001b[0m\u001b[0;34m]\u001b[0m\u001b[0;34m\u001b[0m\u001b[0;34m\u001b[0m\u001b[0m\n\u001b[0;32m---> 76\u001b[0;31m             v_star_val_loss = architect.step(input_w,  output_w, input_w_attn, w_optimizer,\n\u001b[0m\u001b[1;32m     77\u001b[0m                                              \u001b[0minput_v\u001b[0m\u001b[0;34m,\u001b[0m \u001b[0minput_v_attn\u001b[0m\u001b[0;34m,\u001b[0m \u001b[0moutput_v\u001b[0m\u001b[0;34m,\u001b[0m \u001b[0minput_syn\u001b[0m\u001b[0;34m,\u001b[0m \u001b[0minput_syn_attn\u001b[0m\u001b[0;34m,\u001b[0m\u001b[0;34m\u001b[0m\u001b[0;34m\u001b[0m\u001b[0m\n\u001b[1;32m     78\u001b[0m                                              \u001b[0minput_A_v\u001b[0m\u001b[0;34m,\u001b[0m \u001b[0minput_A_v_attn\u001b[0m\u001b[0;34m,\u001b[0m \u001b[0moutput_A_v\u001b[0m\u001b[0;34m,\u001b[0m \u001b[0mattn_idx\u001b[0m\u001b[0;34m,\u001b[0m\u001b[0mv_optimizer\u001b[0m\u001b[0;34m,\u001b[0m\u001b[0;34m\u001b[0m\u001b[0;34m\u001b[0m\u001b[0m\n",
      "\u001b[0;32m/tianyi-vol/Self-teaching-for-machine-translation/BERT/architect.py\u001b[0m in \u001b[0;36mstep\u001b[0;34m(self, input_w, output_w, input_w_attn, w_optimizer, input_v, input_v_attn, output_v, input_syn, input_syn_attn, input_A_v, input_A_v_attn, output_A_v, attn_idx, v_optimizer, lr_w, lr_v, clip)\u001b[0m\n\u001b[1;32m    191\u001b[0m         implicit_grads_A = self._outer_A(vector_s_dash, input_w, output_w, input_w_attn,\n\u001b[1;32m    192\u001b[0m                                          input_v, input_v_attn,  attn_idx,  unrolled_w_model, lr_w, lr_v)\n\u001b[0;32m--> 193\u001b[0;31m         \u001b[0msave\u001b[0m\u001b[0;34m(\u001b[0m\u001b[0mimplicit_grads_A\u001b[0m\u001b[0;34m,\u001b[0m\u001b[0;34m'gradA'\u001b[0m\u001b[0;34m)\u001b[0m\u001b[0;34m\u001b[0m\u001b[0;34m\u001b[0m\u001b[0m\n\u001b[0m\u001b[1;32m    194\u001b[0m         \u001b[0mself\u001b[0m\u001b[0;34m.\u001b[0m\u001b[0moptimizer_A\u001b[0m\u001b[0;34m.\u001b[0m\u001b[0mzero_grad\u001b[0m\u001b[0;34m(\u001b[0m\u001b[0mset_to_none\u001b[0m\u001b[0;34m=\u001b[0m\u001b[0;32mTrue\u001b[0m\u001b[0;34m)\u001b[0m\u001b[0;34m\u001b[0m\u001b[0;34m\u001b[0m\u001b[0m\n\u001b[1;32m    195\u001b[0m         \u001b[0;32mfor\u001b[0m \u001b[0mv\u001b[0m\u001b[0;34m,\u001b[0m \u001b[0mg\u001b[0m \u001b[0;32min\u001b[0m \u001b[0mzip\u001b[0m\u001b[0;34m(\u001b[0m\u001b[0mself\u001b[0m\u001b[0;34m.\u001b[0m\u001b[0mparam\u001b[0m\u001b[0;34m,\u001b[0m \u001b[0mimplicit_grads_A\u001b[0m\u001b[0;34m)\u001b[0m\u001b[0;34m:\u001b[0m\u001b[0;34m\u001b[0m\u001b[0;34m\u001b[0m\u001b[0m\n",
      "\u001b[0;32m/tianyi-vol/Self-teaching-for-machine-translation/BERT/utils.py\u001b[0m in \u001b[0;36msave\u001b[0;34m(x, name)\u001b[0m\n\u001b[1;32m    199\u001b[0m         \u001b[0mm\u001b[0m\u001b[0;34m.\u001b[0m\u001b[0mp\u001b[0m \u001b[0;34m=\u001b[0m \u001b[0;36m0.1\u001b[0m\u001b[0;34m\u001b[0m\u001b[0;34m\u001b[0m\u001b[0m\n\u001b[1;32m    200\u001b[0m \u001b[0;32mdef\u001b[0m \u001b[0msave\u001b[0m\u001b[0;34m(\u001b[0m\u001b[0mx\u001b[0m\u001b[0;34m,\u001b[0m\u001b[0mname\u001b[0m\u001b[0;34m)\u001b[0m\u001b[0;34m:\u001b[0m\u001b[0;34m\u001b[0m\u001b[0;34m\u001b[0m\u001b[0m\n\u001b[0;32m--> 201\u001b[0;31m     \u001b[0mtorch\u001b[0m\u001b[0;34m.\u001b[0m\u001b[0msave\u001b[0m\u001b[0;34m(\u001b[0m\u001b[0mx\u001b[0m\u001b[0;34m,\u001b[0m\u001b[0;34m'./model/'\u001b[0m\u001b[0;34m+\u001b[0m\u001b[0mname\u001b[0m\u001b[0;34m+\u001b[0m\u001b[0;34m'.pt'\u001b[0m\u001b[0;34m)\u001b[0m\u001b[0;34m\u001b[0m\u001b[0;34m\u001b[0m\u001b[0m\n\u001b[0m\u001b[1;32m    202\u001b[0m \u001b[0;34m\u001b[0m\u001b[0m\n\u001b[1;32m    203\u001b[0m \u001b[0;34m\u001b[0m\u001b[0m\n",
      "\u001b[0;32m/opt/conda/lib/python3.8/site-packages/torch/serialization.py\u001b[0m in \u001b[0;36msave\u001b[0;34m(obj, f, pickle_module, pickle_protocol, _use_new_zipfile_serialization)\u001b[0m\n\u001b[1;32m    374\u001b[0m     \u001b[0m_check_dill_version\u001b[0m\u001b[0;34m(\u001b[0m\u001b[0mpickle_module\u001b[0m\u001b[0;34m)\u001b[0m\u001b[0;34m\u001b[0m\u001b[0;34m\u001b[0m\u001b[0m\n\u001b[1;32m    375\u001b[0m \u001b[0;34m\u001b[0m\u001b[0m\n\u001b[0;32m--> 376\u001b[0;31m     \u001b[0;32mwith\u001b[0m \u001b[0m_open_file_like\u001b[0m\u001b[0;34m(\u001b[0m\u001b[0mf\u001b[0m\u001b[0;34m,\u001b[0m \u001b[0;34m'wb'\u001b[0m\u001b[0;34m)\u001b[0m \u001b[0;32mas\u001b[0m \u001b[0mopened_file\u001b[0m\u001b[0;34m:\u001b[0m\u001b[0;34m\u001b[0m\u001b[0;34m\u001b[0m\u001b[0m\n\u001b[0m\u001b[1;32m    377\u001b[0m         \u001b[0;32mif\u001b[0m \u001b[0m_use_new_zipfile_serialization\u001b[0m\u001b[0;34m:\u001b[0m\u001b[0;34m\u001b[0m\u001b[0;34m\u001b[0m\u001b[0m\n\u001b[1;32m    378\u001b[0m             \u001b[0;32mwith\u001b[0m \u001b[0m_open_zipfile_writer\u001b[0m\u001b[0;34m(\u001b[0m\u001b[0mopened_file\u001b[0m\u001b[0;34m)\u001b[0m \u001b[0;32mas\u001b[0m \u001b[0mopened_zipfile\u001b[0m\u001b[0;34m:\u001b[0m\u001b[0;34m\u001b[0m\u001b[0;34m\u001b[0m\u001b[0m\n",
      "\u001b[0;32m/opt/conda/lib/python3.8/site-packages/torch/serialization.py\u001b[0m in \u001b[0;36m_open_file_like\u001b[0;34m(name_or_buffer, mode)\u001b[0m\n\u001b[1;32m    228\u001b[0m \u001b[0;32mdef\u001b[0m \u001b[0m_open_file_like\u001b[0m\u001b[0;34m(\u001b[0m\u001b[0mname_or_buffer\u001b[0m\u001b[0;34m,\u001b[0m \u001b[0mmode\u001b[0m\u001b[0;34m)\u001b[0m\u001b[0;34m:\u001b[0m\u001b[0;34m\u001b[0m\u001b[0;34m\u001b[0m\u001b[0m\n\u001b[1;32m    229\u001b[0m     \u001b[0;32mif\u001b[0m \u001b[0m_is_path\u001b[0m\u001b[0;34m(\u001b[0m\u001b[0mname_or_buffer\u001b[0m\u001b[0;34m)\u001b[0m\u001b[0;34m:\u001b[0m\u001b[0;34m\u001b[0m\u001b[0;34m\u001b[0m\u001b[0m\n\u001b[0;32m--> 230\u001b[0;31m         \u001b[0;32mreturn\u001b[0m \u001b[0m_open_file\u001b[0m\u001b[0;34m(\u001b[0m\u001b[0mname_or_buffer\u001b[0m\u001b[0;34m,\u001b[0m \u001b[0mmode\u001b[0m\u001b[0;34m)\u001b[0m\u001b[0;34m\u001b[0m\u001b[0;34m\u001b[0m\u001b[0m\n\u001b[0m\u001b[1;32m    231\u001b[0m     \u001b[0;32melse\u001b[0m\u001b[0;34m:\u001b[0m\u001b[0;34m\u001b[0m\u001b[0;34m\u001b[0m\u001b[0m\n\u001b[1;32m    232\u001b[0m         \u001b[0;32mif\u001b[0m \u001b[0;34m'w'\u001b[0m \u001b[0;32min\u001b[0m \u001b[0mmode\u001b[0m\u001b[0;34m:\u001b[0m\u001b[0;34m\u001b[0m\u001b[0;34m\u001b[0m\u001b[0m\n",
      "\u001b[0;32m/opt/conda/lib/python3.8/site-packages/torch/serialization.py\u001b[0m in \u001b[0;36m__init__\u001b[0;34m(self, name, mode)\u001b[0m\n\u001b[1;32m    209\u001b[0m \u001b[0;32mclass\u001b[0m \u001b[0m_open_file\u001b[0m\u001b[0;34m(\u001b[0m\u001b[0m_opener\u001b[0m\u001b[0;34m)\u001b[0m\u001b[0;34m:\u001b[0m\u001b[0;34m\u001b[0m\u001b[0;34m\u001b[0m\u001b[0m\n\u001b[1;32m    210\u001b[0m     \u001b[0;32mdef\u001b[0m \u001b[0m__init__\u001b[0m\u001b[0;34m(\u001b[0m\u001b[0mself\u001b[0m\u001b[0;34m,\u001b[0m \u001b[0mname\u001b[0m\u001b[0;34m,\u001b[0m \u001b[0mmode\u001b[0m\u001b[0;34m)\u001b[0m\u001b[0;34m:\u001b[0m\u001b[0;34m\u001b[0m\u001b[0;34m\u001b[0m\u001b[0m\n\u001b[0;32m--> 211\u001b[0;31m         \u001b[0msuper\u001b[0m\u001b[0;34m(\u001b[0m\u001b[0m_open_file\u001b[0m\u001b[0;34m,\u001b[0m \u001b[0mself\u001b[0m\u001b[0;34m)\u001b[0m\u001b[0;34m.\u001b[0m\u001b[0m__init__\u001b[0m\u001b[0;34m(\u001b[0m\u001b[0mopen\u001b[0m\u001b[0;34m(\u001b[0m\u001b[0mname\u001b[0m\u001b[0;34m,\u001b[0m \u001b[0mmode\u001b[0m\u001b[0;34m)\u001b[0m\u001b[0;34m)\u001b[0m\u001b[0;34m\u001b[0m\u001b[0;34m\u001b[0m\u001b[0m\n\u001b[0m\u001b[1;32m    212\u001b[0m \u001b[0;34m\u001b[0m\u001b[0m\n\u001b[1;32m    213\u001b[0m     \u001b[0;32mdef\u001b[0m \u001b[0m__exit__\u001b[0m\u001b[0;34m(\u001b[0m\u001b[0mself\u001b[0m\u001b[0;34m,\u001b[0m \u001b[0;34m*\u001b[0m\u001b[0margs\u001b[0m\u001b[0;34m)\u001b[0m\u001b[0;34m:\u001b[0m\u001b[0;34m\u001b[0m\u001b[0;34m\u001b[0m\u001b[0m\n",
      "\u001b[0;31mKeyboardInterrupt\u001b[0m: "
     ]
    }
   ],
   "source": [
    "# if(args.valid_begin == 1):\n",
    "#     my_test(valid_dataloader, model_w, -1)  # before train\n",
    "#     my_test(valid_dataloader, model_v, -1)\n",
    "\n",
    "tot_iter = [0]\n",
    "v_accu = 0\n",
    "for epoch in range(args.epochs):\n",
    "    lr_w = scheduler_w.get_lr()[0]\n",
    "    lr_v = scheduler_v.get_lr()[0]\n",
    "    lr_A = architect.scheduler_A.get_lr()[0]\n",
    "\n",
    "    logging.info(\n",
    "        f\"\\n\\n  ----------------epoch:{epoch},\\t\\tlr_w:{lr_w},\\t\\tlr_v:{lr_v},\\t\\tlr_A:{lr_A}----------------\")\n",
    "\n",
    "    w_train_loss,v_accu = my_train(epoch, train_w_dataloader,train_syn_dataloader,train_A_dataloader, valid_dataloader, model_w,\n",
    "                            model_v,  architect, A, w_optimizer, v_optimizer, scheduler_w, scheduler_v, tot_iter,v_accu)\n",
    "\n",
    "    # scheduler_w.step()\n",
    "    # scheduler_v.step()\n",
    "    # architect.scheduler_A.step()\n",
    "\n",
    "\n",
    "\n",
    "w_accu = my_test(test_dataloader, torch.load('./model/'+'model_w.pt'), -2)\n",
    "v_accu = my_test(test_dataloader, torch.load('./model/'+'model_v.pt'), -2)\n",
    "logging.info(f'best w on test:{w_accu} accuracy; best v on test:{v_accu} accuracy')\n"
   ]
  },
  {
   "cell_type": "code",
   "execution_count": 21,
   "metadata": {},
   "outputs": [
    {
     "data": {
      "text/plain": [
       "tensor([1, 0, 1,  ..., 0, 0, 0], device='cuda:0')"
      ]
     },
     "execution_count": 21,
     "metadata": {},
     "output_type": "execute_result"
    }
   ],
   "source": [
    "real_label"
   ]
  },
  {
   "cell_type": "code",
   "execution_count": null,
   "metadata": {},
   "outputs": [
    {
     "name": "stdout",
     "output_type": "stream",
     "text": [
      "07/05 07:00:38 AM |\t  teacher test loss : 0.793897\n",
      "07/05 07:00:38 AM |\t  teacher top1 : 94.473684\n",
      "07/05 07:00:38 AM |\t  teacher top5 : 94.473684\n",
      "07/05 07:00:38 AM |\t  teacher test loss : 0.793897\n",
      "07/05 07:00:47 AM |\t  student test loss : 0.782397\n",
      "07/05 07:00:47 AM |\t  student top1 : 93.105263\n",
      "07/05 07:00:47 AM |\t  student top5 : 93.105263\n",
      "07/05 07:00:47 AM |\t  student test loss : 0.782397\n",
      "07/05 07:00:47 AM |\t  best w on test:94.47368421052632 accuracy; best v on test:93.10526315789474 accuracy\n"
     ]
    }
   ],
   "source": [
    "\n",
    "w_accu = my_test(test_dataloader, torch.load('./model/'+'model_w.pt'), -2)\n",
    "v_accu = my_test(test_dataloader, torch.load('./model/'+'model_v.pt'), -2)\n",
    "\n",
    "logging.info(f'best w on test:{w_accu} accuracy; best v on test:{v_accu} accuracy')"
   ]
  },
  {
   "cell_type": "code",
   "execution_count": null,
   "metadata": {},
   "outputs": [],
   "source": []
  }
 ],
 "metadata": {
  "kernelspec": {
   "display_name": "Python 3.8.8 ('base')",
   "language": "python",
   "name": "python3"
  },
  "language_info": {
   "codemirror_mode": {
    "name": "ipython",
    "version": 3
   },
   "file_extension": ".py",
   "mimetype": "text/x-python",
   "name": "python",
   "nbconvert_exporter": "python",
   "pygments_lexer": "ipython3",
   "version": "3.8.8"
  },
  "orig_nbformat": 4,
  "vscode": {
   "interpreter": {
    "hash": "d4d1e4263499bec80672ea0156c357c1ee493ec2b1c70f0acce89fc37c4a6abe"
   }
  }
 },
 "nbformat": 4,
 "nbformat_minor": 2
}
